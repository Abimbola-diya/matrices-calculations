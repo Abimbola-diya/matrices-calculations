{
 "cells": [
  {
   "cell_type": "code",
   "execution_count": 4,
   "id": "2c59dd48-090f-4432-b083-f446749af6c8",
   "metadata": {},
   "outputs": [
    {
     "name": "stdin",
     "output_type": "stream",
     "text": [
      "what is the value of dr/dt(m/min)= 5\n",
      "what is the radius given= 50\n"
     ]
    },
    {
     "name": "stdout",
     "output_type": "stream",
     "text": [
      "the rate of change of area with respect to time is :\n",
      "1570.7963267948967 m^2/min\n"
     ]
    }
   ],
   "source": [
    "import math\n",
    "delta_r_delta_t=int(input('what is the value of dr/dt(m/min)='))\n",
    "radius=int(input('what is the radius(m) given='))\n",
    "delta_A_delta_r=2*math.pi*radius\n",
    "delta_A_delta_t=delta_A_delta_r*delta_r_delta_t\n",
    "print('the rate of change of area with respect to time is :')\n",
    "print(delta_A_delta_t,'m^2/min')"
   ]
  },
  {
   "cell_type": "code",
   "execution_count": 2,
   "id": "bb76de86-c2a7-4971-b3bb-dfa2a002391b",
   "metadata": {},
   "outputs": [
    {
     "name": "stdout",
     "output_type": "stream",
     "text": [
      "[1, 2, 3, 4, 5, 6, 7, 8, 9, 10, 11, 12, 13, 14, 15, 16, 17, 18, 19, 20]\n"
     ]
    }
   ],
   "source": [
    "print(list(range(1,21)))"
   ]
  },
  {
   "cell_type": "code",
   "execution_count": null,
   "id": "00f33ec2-e76c-4811-988f-f0aaef6b5e09",
   "metadata": {},
   "outputs": [],
   "source": []
  }
 ],
 "metadata": {
  "kernelspec": {
   "display_name": "Python 3 (ipykernel)",
   "language": "python",
   "name": "python3"
  },
  "language_info": {
   "codemirror_mode": {
    "name": "ipython",
    "version": 3
   },
   "file_extension": ".py",
   "mimetype": "text/x-python",
   "name": "python",
   "nbconvert_exporter": "python",
   "pygments_lexer": "ipython3",
   "version": "3.11.7"
  }
 },
 "nbformat": 4,
 "nbformat_minor": 5
}
